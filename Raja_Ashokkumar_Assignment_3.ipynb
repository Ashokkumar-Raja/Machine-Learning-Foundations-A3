{
  "cells": [
    {
      "cell_type": "markdown",
      "metadata": {
        "id": "A3LkNEvNVZgj"
      },
      "source": [
        "<center>\n",
        "<h1>CSCI3151 - Foundations of Machine Learning</h1>\n",
        "<h1>Data Generation, Naive Bayes Classification and Gaussian Mixture Models</h1>\n",
        "Summer 2021\n",
        "</center>"
      ]
    },
    {
      "cell_type": "markdown",
      "metadata": {
        "id": "tIhOzUMO75lT"
      },
      "source": [
        "<center>\n",
        "<b> Due on: 12 July 2021, 23:30 ADT  </b> \n",
        "</center>"
      ]
    },
    {
      "cell_type": "markdown",
      "metadata": {
        "id": "2j3wx31utEJB"
      },
      "source": [
        "Submit your assignment as a single `.ipynb` file **(please do not zip it when submitting to brightspace)** including your answers to both the math and the experimental questions, in the correct order. Use markdown syntax to format your answers."
      ]
    },
    {
      "cell_type": "markdown",
      "metadata": {
        "id": "-fazx3ZWLioe"
      },
      "source": [
        "Note: in solving the math questions, aim for general (symbolic) solutions and substitute the specific numbers at the end. This demonstrates a solid understanding of the key concepts. \n",
        "You can answer the math questions in two ways:\n",
        "*   **Use LaTeX to typeset the equations**. Section H of [this LaTeX reference sheet](http://tug.ctan.org/info/latex-refsheet/LaTeX_RefSheet.pdf) is a good reference. Here is another [LaTeX reference sheet](https://math.meta.stackexchange.com/questions/5020/mathjax-basic-tutorial-and-quick-reference).\n",
        "The equations in the questions are typeset in LaTeX, so you can use them as examples. \n",
        "*   **Use neat handwriting**, scan your solution using [AdobeScan](https://acrobat.adobe.com/ca/en/mobile/scanner-app.html), or [Dropbox](https://www.dropbox.com/doc-scanner-app) on your mobile phone, upload the image file, and embed it in your solution notebook. To this end (1) create an empty Markdown cell. 2) Drag-and-drop the image file into the empty Markdown cell, or click on the image icon at the top of the cell and select the image file. The Markdown code that will embed the image then appears.   \n"
      ]
    },
    {
      "cell_type": "markdown",
      "metadata": {
        "id": "ctf7gGIgcVXH"
      },
      "source": [
        "Your answers to the experimental questions should be in your solution notebook, in the form of code and text cells, using markdown for your text responses. **You should also include the results of running your code. This means that you must not clear the output produced by your program**."
      ]
    },
    {
      "cell_type": "markdown",
      "metadata": {
        "id": "ZS81IRPHrqhM"
      },
      "source": [
        "The marking criteria are described in rubrics. There are two rubrics, for math questions, and for experimental questions, respectively. "
      ]
    },
    {
      "cell_type": "markdown",
      "metadata": {
        "id": "S_QHus3qtNB_"
      },
      "source": [
        "You can submit multiple editions of your assignment. Only the last one will be marked. It is recommended to upload a complete submission, even if you are still improving it, so that you have something into the system if your computer fails for whatever reason.  \n",
        "\n",
        "**IMPORTANT**: PLEASE NAME YOUR PYTHON NOTEBOOK FILE AS: \n",
        "* `<LAST_NAME>-<FIRST_NAME>-Assignment-N.ipynb`\n",
        "\n",
        "for example: **Soto-Axel-Assignment-3.ipynb** \\\\\n"
      ]
    },
    {
      "cell_type": "markdown",
      "metadata": {
        "id": "4EQIMgtFWiYX"
      },
      "source": [
        "## **1. Data generation** (2 pts)\n",
        "\n",
        "\n",
        "\n",
        "\n",
        "\n",
        "\n",
        "\n",
        "\n",
        "\n",
        " "
      ]
    },
    {
      "cell_type": "markdown",
      "metadata": {
        "id": "mdeKhrukWpUZ"
      },
      "source": [
        "In this question we are going to generate data corresponding to a mixture of Gaussians."
      ]
    },
    {
      "cell_type": "markdown",
      "metadata": {
        "id": "aAtxzFJqWtbA"
      },
      "source": [
        "a) Program a generative model of red blood cell counts for samples in a blood bank, knowing\n",
        "that males have a mean equal to 5.4 million cells/μL (with a standard deviation equal to 0.28\n",
        "million cells/μL) and females have a mean equal to 4.2 million cells/μL (with a standard\n",
        "deviation equal to 0.2 million cells/μL). Keep in mind that donations by women are more\n",
        "common, as only 40% of the donations have been made by men."
      ]
    },
    {
      "cell_type": "code",
      "execution_count": 98,
      "metadata": {
        "id": "9aAb8Rl97lvJ"
      },
      "outputs": [],
      "source": [
        "import numpy as np\n",
        "import matplotlib.pyplot as plt\n",
        "\n",
        "def generate_data(n):\n",
        "  data = []\n",
        "  gender = []\n",
        "  for x in range(n):\n",
        "    if np.random.uniform() < 0.6:\n",
        "      gender.append(\"f\")\n",
        "      data.append(np.random.normal(loc = 4.2, scale = 0.2))\n",
        "    else:\n",
        "      gender.append(\"m\")\n",
        "      data.append(np.random.normal(loc = 5.4, scale = 0.28))\n",
        "  return np.array(data), np.array(gender)\n",
        "\n"
      ]
    },
    {
      "cell_type": "markdown",
      "metadata": {
        "id": "LF4ulPf9W4d_"
      },
      "source": [
        "b) Generate a population of 10,000 individuals and plot the joint histogram."
      ]
    },
    {
      "cell_type": "code",
      "execution_count": 99,
      "metadata": {
        "colab": {
          "base_uri": "https://localhost:8080/",
          "height": 265
        },
        "id": "-oQCeeCQwRnC",
        "outputId": "141decf7-ef05-4e54-e9fe-679140acdb25"
      },
      "outputs": [
        {
          "data": {
            "image/png": "[encoded data removed]",
            "text/plain": [
              "<Figure size 432x288 with 1 Axes>"
            ]
          },
          "metadata": {
            "needs_background": "light",
            "tags": []
          },
          "output_type": "display_data"
        }
      ],
      "source": [
        "data, gender = generate_data(10000)\n",
        "plt.hist(data[gender == \"f\"], label = \"female\")\n",
        "plt.hist(data[gender == \"m\"], label = \"male\")\n",
        "plt.legend()\n",
        "plt.show()"
      ]
    },
    {
      "cell_type": "markdown",
      "metadata": {
        "id": "9FQeSEOiGjK0"
      },
      "source": [
        "## **2.Multi-label classification using Naive Bayes** (5 pts)"
      ]
    },
    {
      "cell_type": "markdown",
      "metadata": {
        "id": "m5pMSqebMZMm"
      },
      "source": [
        "In this question you will implement Naive Bayes to classify the topic of newsgroup posts.This method works fairly well for certain text classification tasks. This is indeed the case for newsgroup post classification given that there are words that convey a strong indication of a post belonging to a certain topic."
      ]
    },
    {
      "cell_type": "markdown",
      "metadata": {
        "id": "41inuwcrPvpv"
      },
      "source": [
        "You will make use of the 20 newsgroup Dataset, which can be found in  sklearn(The training subset has been fetched for you) . Utilize [TfidfVectorizer](https://scikit-learn.org/stable/modules/generated/sklearn.feature_extraction.text.TfidfVectorizer.html) to convert the words to vector representations. Experiment with the parameters as needed.\n",
        ">(Please refer [here](https://scikit-learn.org/stable/modules/feature_extraction.html#tfidf-term-weighting) for more details about sklearn implementation of Tf-idf)"
      ]
    },
    {
      "cell_type": "code",
      "execution_count": 100,
      "metadata": {
        "id": "zsizlrFCL-Em"
      },
      "outputs": [],
      "source": [
        "from sklearn.datasets import fetch_20newsgroups\n",
        "newsgroups_train = fetch_20newsgroups(remove=('headers','footers','quotes'),subset='train')\n",
        "# removes whitespaces from data\n",
        "remove_ws = lambda x: \" \".join(x.split())\n",
        "X_train = list(map(remove_ws,newsgroups_train.data))\n",
        "y_train = newsgroups_train.target\n",
        "# uncomment to know more about the dataset\n",
        "#print(newsgroups_train.DESCR) "
      ]
    },
    {
      "cell_type": "markdown",
      "metadata": {
        "id": "tn5Oz0SmPHe2"
      },
      "source": [
        "a) First you will build a classifier on the above training set. You will be using [Multinomial Naive Bayes](https://scikit-learn.org/stable/modules/generated/sklearn.naive_bayes.MultinomialNB.html#sklearn-naive-bayes-multinomialnb) from sklearn for this task. Make sure you account for the zero counts (smoothing), so that a prediction is not penalized just because it uses a word that is not present in the training set. "
      ]
    },
    {
      "cell_type": "code",
      "execution_count": 101,
      "metadata": {
        "colab": {
          "base_uri": "https://localhost:8080/"
        },
        "id": "SkSW3WvN_BvU",
        "outputId": "9c4f2ad2-c122-420e-e08e-ba76a21bee38"
      },
      "outputs": [
        {
          "name": "stdout",
          "output_type": "stream",
          "text": [
            "(11314, 101631)\n"
          ]
        }
      ],
      "source": [
        "# Code below (Transform words to feature vectors using tf-idf) \n",
        "\n",
        "from sklearn.feature_extraction.text import TfidfVectorizer\n",
        "from sklearn.naive_bayes import MultinomialNB\n",
        "\n",
        "vectorizer = TfidfVectorizer()\n",
        "vectors_train = vectorizer.fit_transform(X_train)\n",
        "print(vectors_train.shape)\n"
      ]
    },
    {
      "cell_type": "code",
      "execution_count": 102,
      "metadata": {
        "id": "cDYV0j32GMLS"
      },
      "outputs": [],
      "source": [
        "# Code below (Use the tranformed features to train the classifier)\n",
        "\n",
        "model = MultinomialNB().fit(vectors_train, y_train)\n"
      ]
    },
    {
      "cell_type": "markdown",
      "metadata": {
        "id": "OzaZ7kgsQw0n"
      },
      "source": [
        "How well does the classifier fits the training set ?"
      ]
    },
    {
      "cell_type": "code",
      "execution_count": 103,
      "metadata": {
        "colab": {
          "base_uri": "https://localhost:8080/"
        },
        "id": "oCcI41V9Qm0o",
        "outputId": "01e03498-7076-468a-ebc2-b3481a002e3c"
      },
      "outputs": [
        {
          "name": "stdout",
          "output_type": "stream",
          "text": [
            "                          precision    recall  f1-score   support\n",
            "\n",
            "             alt.atheism       0.97      0.34      0.51       480\n",
            "           comp.graphics       0.94      0.83      0.88       584\n",
            " comp.os.ms-windows.misc       0.90      0.81      0.86       591\n",
            "comp.sys.ibm.pc.hardware       0.78      0.91      0.84       590\n",
            "   comp.sys.mac.hardware       0.97      0.87      0.92       578\n",
            "          comp.windows.x       0.93      0.93      0.93       593\n",
            "            misc.forsale       0.94      0.81      0.87       585\n",
            "               rec.autos       0.94      0.83      0.88       594\n",
            "         rec.motorcycles       0.98      0.86      0.92       598\n",
            "      rec.sport.baseball       0.99      0.89      0.94       597\n",
            "        rec.sport.hockey       0.65      0.95      0.77       600\n",
            "               sci.crypt       0.76      0.95      0.84       595\n",
            "         sci.electronics       0.96      0.80      0.87       591\n",
            "                 sci.med       0.98      0.89      0.93       594\n",
            "               sci.space       0.97      0.88      0.92       593\n",
            "  soc.religion.christian       0.35      0.98      0.51       599\n",
            "      talk.politics.guns       0.89      0.89      0.89       546\n",
            "   talk.politics.mideast       0.92      0.89      0.91       564\n",
            "      talk.politics.misc       0.99      0.43      0.60       465\n",
            "      talk.religion.misc       1.00      0.02      0.05       377\n",
            "\n",
            "                accuracy                           0.81     11314\n",
            "               macro avg       0.89      0.79      0.79     11314\n",
            "            weighted avg       0.89      0.81      0.81     11314\n",
            "\n"
          ]
        }
      ],
      "source": [
        "from sklearn.metrics import classification_report\n",
        "\n",
        "training_pred = model.predict(vectors_train)\n",
        "print(classification_report(y_train, training_pred, target_names = newsgroups_train.target_names))\n"
      ]
    },
    {
      "cell_type": "markdown",
      "metadata": {
        "id": "6Cs0OFDbH7N-"
      },
      "source": [
        "b) For testing fetch the test subset by passing `subset=\"test\"` in the code above. Plot the confusion matrix and report the classification metrics (precision, recall, f1-score) for all the categories. Sklearn's [classfication report](https://scikit-learn.org/stable/modules/generated/sklearn.metrics.classification_report.html#sklearn-metrics-classification-report) is a useful utility for this task.\n",
        "> Note : Remember to apply identical tranformations (text cleaning, Tf-idf vectorization etc) to the test subset as the training subset before inference.\n",
        "\n",
        "\n",
        "\n"
      ]
    },
    {
      "cell_type": "code",
      "execution_count": 104,
      "metadata": {
        "id": "wBpkm3xJ8Itm"
      },
      "outputs": [],
      "source": [
        "newsgroups_test = fetch_20newsgroups(remove=('headers','footers','quotes'),subset='test')\n",
        "# removes whitespaces from data\n",
        "remove_ws = lambda x: \" \".join(x.split())\n",
        "X_test = list(map(remove_ws,newsgroups_test.data))\n",
        "y_test = newsgroups_test.target\n",
        "\n",
        "vectors_test = vectorizer.transform(X_test)\n",
        "testing_pred = model.predict(vectors_test)\n"
      ]
    },
    {
      "cell_type": "code",
      "execution_count": 105,
      "metadata": {
        "colab": {
          "base_uri": "https://localhost:8080/",
          "height": 1000
        },
        "id": "r8GHIxLgEVq8",
        "outputId": "c807fab5-1a2e-47be-aac0-02e81df88add"
      },
      "outputs": [
        {
          "name": "stdout",
          "output_type": "stream",
          "text": [
            "                          precision    recall  f1-score   support\n",
            "\n",
            "             alt.atheism       0.81      0.07      0.13       319\n",
            "           comp.graphics       0.72      0.62      0.67       389\n",
            " comp.os.ms-windows.misc       0.70      0.50      0.59       394\n",
            "comp.sys.ibm.pc.hardware       0.55      0.75      0.64       392\n",
            "   comp.sys.mac.hardware       0.81      0.61      0.69       385\n",
            "          comp.windows.x       0.83      0.74      0.78       395\n",
            "            misc.forsale       0.86      0.69      0.77       390\n",
            "               rec.autos       0.82      0.68      0.74       396\n",
            "         rec.motorcycles       0.89      0.63      0.73       398\n",
            "      rec.sport.baseball       0.95      0.69      0.80       397\n",
            "        rec.sport.hockey       0.59      0.90      0.71       399\n",
            "               sci.crypt       0.47      0.80      0.59       396\n",
            "         sci.electronics       0.77      0.43      0.55       393\n",
            "                 sci.med       0.86      0.63      0.73       396\n",
            "               sci.space       0.84      0.63      0.72       394\n",
            "  soc.religion.christian       0.22      0.95      0.36       398\n",
            "      talk.politics.guns       0.59      0.59      0.59       364\n",
            "   talk.politics.mideast       0.85      0.70      0.77       376\n",
            "      talk.politics.misc       0.81      0.08      0.15       310\n",
            "      talk.religion.misc       0.50      0.00      0.01       251\n",
            "\n",
            "                accuracy                           0.61      7532\n",
            "               macro avg       0.72      0.58      0.59      7532\n",
            "            weighted avg       0.72      0.61      0.61      7532\n",
            "\n"
          ]
        },
        {
          "data": {
            "image/png": "[encoded data removed]",
            "text/plain": [
              "<Figure size 720x720 with 1 Axes>"
            ]
          },
          "metadata": {
            "needs_background": "light",
            "tags": []
          },
          "output_type": "display_data"
        }
      ],
      "source": [
        "# Referred Tutorial 5\n",
        "\n",
        "from sklearn.metrics import confusion_matrix\n",
        "import seaborn as sns\n",
        "import matplotlib.pyplot as plt\n",
        "from sklearn.metrics import classification_report\n",
        "\n",
        "mat = confusion_matrix(y_test, testing_pred)\n",
        "\n",
        "plt.subplots(figsize = (10, 10))\n",
        "\n",
        "sns.heatmap(mat.T, square=True, annot=True, fmt='d', cbar=False, xticklabels=newsgroups_train.target_names, yticklabels=newsgroups_train.target_names)\n",
        "\n",
        "plt.xlabel('true label')\n",
        "plt.ylabel('predicted label')\n",
        "print(classification_report(y_test, testing_pred, target_names = newsgroups_train.target_names))\n"
      ]
    },
    {
      "cell_type": "markdown",
      "metadata": {
        "id": "-8HhC1w2GUFf"
      },
      "source": [
        "c) Which category is the model best predictor for? "
      ]
    },
    {
      "cell_type": "markdown",
      "metadata": {
        "id": "iu-YkDvYRT59"
      },
      "source": [
        "Answer:  Baseball since its precision value is high. \n",
        "\n",
        "\n"
      ]
    },
    {
      "cell_type": "markdown",
      "metadata": {
        "id": "kx6aKalOIx7u"
      },
      "source": [
        "Report the top-10 most representative words or features for that category ie. top-10 words with the highest\n",
        "$P(X_{i}|category)$ . We'll use the *get_feature_names()* method of  [TfidfVectorizer](https://scikit-learn.org/stable/modules/generated/sklearn.feature_extraction.text.TfidfVectorizer.html) and *feature_log_prob_* attribute of [Multinomial Naive Bayes](https://scikit-learn.org/stable/modules/generated/sklearn.naive_bayes.MultinomialNB.html#sklearn-naive-bayes-multinomialnb) to answer this question.These have been combined in the \"show_top10\" function below. You are encouraged to find out how this function works and use it to answer the question."
      ]
    },
    {
      "cell_type": "code",
      "execution_count": 107,
      "metadata": {
        "id": "IY77XkRG_CIS"
      },
      "outputs": [],
      "source": [
        "categories = newsgroups_train.target_names #categories present in the Newsgroup dataset. \n",
        "def show_top10(classifier, vectorizer, categories):\n",
        "  \"Returns the top 10 most representative features for each class\"\n",
        "  feature_names = np.asarray(vectorizer.get_feature_names())\n",
        "  for i, category in enumerate(categories):\n",
        "    top10 = np.argsort(classifier.feature_log_prob_[i])[-10:]\n",
        "    print(\"%s: %s\" % (category, \" \".join(feature_names[top10])))"
      ]
    },
    {
      "cell_type": "code",
      "execution_count": 108,
      "metadata": {
        "colab": {
          "base_uri": "https://localhost:8080/"
        },
        "id": "CxXyrylqU60L",
        "outputId": "834b4e62-e8e0-4a6c-9417-38b3585e8029"
      },
      "outputs": [
        {
          "name": "stdout",
          "output_type": "stream",
          "text": [
            "alt.atheism: not in and it you is that of to the\n",
            "comp.graphics: you in graphics it is for of and to the\n",
            "comp.os.ms-windows.misc: file of you for and is it to windows the\n",
            "comp.sys.ibm.pc.hardware: with scsi for of drive is it and to the\n",
            "comp.sys.mac.hardware: that apple for of mac it and is to the\n",
            "comp.windows.x: for this it in of is and window to the\n",
            "misc.forsale: or in shipping offer 00 to and sale the for\n",
            "rec.autos: is that in it of you and to car the\n",
            "rec.motorcycles: for that in of you it and bike to the\n",
            "rec.sport.baseball: year was is that of in and to he the\n",
            "rec.sport.hockey: hockey team that game of he and in to the\n",
            "sci.crypt: in be it is that key and of to the\n",
            "sci.electronics: that for in it you is and of to the\n",
            "sci.med: this you that in it and is to of the\n",
            "sci.space: for that it is in and space of to the\n",
            "soc.religion.christian: you it in god and is that to of the\n",
            "talk.politics.guns: it gun is you in and that of to the\n",
            "talk.politics.mideast: it is israel that you in and to of the\n",
            "talk.politics.misc: are it is you in and that of to the\n",
            "talk.religion.misc: not it in you is and that to of the\n"
          ]
        }
      ],
      "source": [
        "# Calling method to print top 10 words from every category\n",
        "\n",
        "show_top10(model, vectorizer, categories)\n"
      ]
    },
    {
      "cell_type": "markdown",
      "metadata": {
        "id": "KDEJkB41PHWI"
      },
      "source": [
        "d) Select any 10 samples from the test-set, using the same trained model in (a)  predict the top-2 news category for each of the 10 samples. You can utilize the [predict_proba](https://scikit-learn.org/stable/modules/generated/sklearn.naive_bayes.MultinomialNB.html#sklearn.naive_bayes.MultinomialNB.predict_proba) method of the classifier for this task."
      ]
    },
    {
      "cell_type": "code",
      "execution_count": 109,
      "metadata": {
        "colab": {
          "base_uri": "https://localhost:8080/"
        },
        "id": "ToBwyctibHak",
        "outputId": "49103ddc-7377-447f-9d2d-18944fd2cbd8"
      },
      "outputs": [
        {
          "name": "stdout",
          "output_type": "stream",
          "text": [
            "                          precision    recall  f1-score   support\n",
            "\n",
            "             alt.atheism       0.81      0.07      0.13       319\n",
            "           comp.graphics       0.72      0.62      0.67       389\n",
            " comp.os.ms-windows.misc       0.70      0.50      0.59       394\n",
            "comp.sys.ibm.pc.hardware       0.55      0.75      0.64       392\n",
            "   comp.sys.mac.hardware       0.81      0.61      0.69       385\n",
            "          comp.windows.x       0.83      0.74      0.78       395\n",
            "            misc.forsale       0.86      0.69      0.77       390\n",
            "               rec.autos       0.82      0.68      0.74       396\n",
            "         rec.motorcycles       0.89      0.63      0.73       398\n",
            "      rec.sport.baseball       0.95      0.69      0.80       397\n",
            "        rec.sport.hockey       0.59      0.90      0.71       399\n",
            "               sci.crypt       0.47      0.80      0.59       396\n",
            "         sci.electronics       0.77      0.43      0.55       393\n",
            "                 sci.med       0.86      0.63      0.73       396\n",
            "               sci.space       0.84      0.63      0.72       394\n",
            "  soc.religion.christian       0.22      0.95      0.36       398\n",
            "      talk.politics.guns       0.59      0.59      0.59       364\n",
            "   talk.politics.mideast       0.85      0.70      0.77       376\n",
            "      talk.politics.misc       0.81      0.08      0.15       310\n",
            "      talk.religion.misc       0.50      0.00      0.01       251\n",
            "\n",
            "                accuracy                           0.61      7532\n",
            "               macro avg       0.72      0.58      0.59      7532\n",
            "            weighted avg       0.72      0.61      0.61      7532\n",
            "\n"
          ]
        }
      ],
      "source": [
        "print(classification_report(y_test, testing_pred, target_names = newsgroups_train.target_names))\n",
        "# The top 2 news category will be the ones with the highest precision. \n"
      ]
    },
    {
      "cell_type": "markdown",
      "metadata": {
        "id": "_9WRIy8MqbXG"
      },
      "source": [
        "## **3. Gaussian Mixture Model** (3 pts)\n",
        "\n"
      ]
    },
    {
      "cell_type": "markdown",
      "metadata": {
        "id": "fbpIz5SUqbXH"
      },
      "source": [
        "It’s year 2120 and you work as a space taxi driver. One day, you suddenly get lost and find a\n",
        "new small inhabited planet, which looks like a so far unknown civilization. You meet the planet\n",
        "prime minister who explains to you that different alien races joined to live on this planet\n",
        "peacefully. Although the different races look similar, the prime minister explains: “It’s not\n",
        "clear-cut, but the race can be fairly well distinguished by looking at an alien's height and weight”.\n",
        "You spent a good amount of time chatting and laughing with the prime minister until you\n",
        "realized that you had passengers waiting to be picked up."
      ]
    },
    {
      "cell_type": "markdown",
      "metadata": {
        "id": "iuV7GNgTqbXH"
      },
      "source": [
        "A few years later, you find that there is a lot of interest in knowing more about this planet, how\n",
        "many races there are, and what their different races look like. You never managed to find that\n",
        "planet again (as you know, planets move around). You are clearly not good at memorizing data,\n",
        "but luckily, the prime minister shared with you the last census data (aliens.csv), which contains\n",
        "aliens’ heights and weights in meters and kilograms, respectively. Would you be able to infer\n",
        "how many races there are and what their characteristics are?"
      ]
    },
    {
      "cell_type": "code",
      "execution_count": 81,
      "metadata": {
        "colab": {
          "base_uri": "https://localhost:8080/",
          "height": 73,
          "resources": {
            "http://localhost:8080/nbextensions/google.colab/files.js": {
              "data": "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",
              "headers": [
                [
                  "content-type",
                  "application/javascript"
                ]
              ],
              "ok": true,
              "status": 200,
              "status_text": ""
            }
          }
        },
        "id": "1YI_t8P4UjAa",
        "outputId": "0fd25bcc-cd26-4afa-abb4-3ec2c403d424"
      },
      "outputs": [
        {
          "data": {
            "text/html": [
              "\n",
              "     <input type=\"file\" id=\"files-df3cd234-ef14-4423-9397-9d7d496f5a81\" name=\"files[]\" multiple disabled\n",
              "        style=\"border:none\" />\n",
              "     <output id=\"result-df3cd234-ef14-4423-9397-9d7d496f5a81\">\n",
              "      Upload widget is only available when the cell has been executed in the\n",
              "      current browser session. Please rerun this cell to enable.\n",
              "      </output>\n",
              "      <script src=\"/nbextensions/google.colab/files.js\"></script> "
            ],
            "text/plain": [
              "<IPython.core.display.HTML object>"
            ]
          },
          "metadata": {
            "tags": []
          },
          "output_type": "display_data"
        },
        {
          "name": "stdout",
          "output_type": "stream",
          "text": [
            "Saving aliens.csv to aliens.csv\n"
          ]
        }
      ],
      "source": [
        "# Use this to import the aliens.csv from your local directory.\n",
        "from google.colab import files\n",
        "import pandas as pd\n",
        "import io\n",
        "uploaded = files.upload()\n",
        "aliens = pd.read_csv(io.StringIO(uploaded['aliens.csv'].decode('utf-8')),names=['height','weight'])"
      ]
    },
    {
      "cell_type": "markdown",
      "metadata": {
        "id": "V1CTeoOmqbXI"
      },
      "source": [
        "a) Run a [Gaussian Mixture Model](https://scikit-learn.org/stable/modules/generated/sklearn.mixture.GaussianMixture.html#sklearn-mixture-gaussianmixture), so that you can identify the different races in the civilization.\n",
        "Vary the number of components from 2 to 7. Use the [Akaike information criterion](https://scikit-learn.org/stable/modules/generated/sklearn.mixture.GaussianMixture.html#sklearn.mixture.GaussianMixture.aic) (AIC) to\n",
        "provide a metric of the goodness of the approximation for each. Indicate the most likely number\n",
        "of races."
      ]
    },
    {
      "cell_type": "code",
      "execution_count": 113,
      "metadata": {
        "id": "JHBWjzap6HVv"
      },
      "outputs": [],
      "source": [
        "# Referred Tutorial 6\n",
        "\n",
        "# for component in numberOfComponents:\n",
        "#   model = GaussianMixture(n_components = component).fit(aliens)\n",
        "\n",
        "# use the sklearn make_blob function to generate the dataset\n",
        "from sklearn.datasets import make_blobs \n",
        "import matplotlib.pyplot as plt\n",
        "import numpy as np\n",
        "from itertools import cycle, islice\n",
        "\n",
        "# Generate your dataset here\n",
        "blobs = make_blobs(n_samples=100)\n",
        "# blobs with varied variances\n",
        "varied = make_blobs(n_samples=100,\n",
        "                             cluster_std=[1.0, 2.5, 0.5]\n",
        "                    )\n",
        "\n",
        "datasets = [ \n",
        "            (varied, {'eps': .18, 'n_neighbors': 2, 'min_samples': 5, 'xi': 0.035, 'min_cluster_size': .2}),\n",
        "            (blobs, {})\n",
        "]\n"
      ]
    },
    {
      "cell_type": "markdown",
      "metadata": {
        "id": "D3npBBO6qbXK"
      },
      "source": [
        "b) Using the most probable number of races (# gaussians) based on AIC, plot in a scatter plot of\n",
        "all your points (heights and weights) where the color of each point is defined by the Gaussian\n",
        "with the highest posterior probability."
      ]
    },
    {
      "cell_type": "code",
      "execution_count": 115,
      "metadata": {
        "colab": {
          "base_uri": "https://localhost:8080/",
          "height": 487
        },
        "id": "4FTXewqh5SXl",
        "outputId": "df181f10-5b35-4ba7-8fff-167adba8b5e6"
      },
      "outputs": [
        {
          "data": {
            "image/png": "[encoded data removed]",
            "text/plain": [
              "<Figure size 432x288 with 1 Axes>"
            ]
          },
          "metadata": {
            "tags": []
          },
          "output_type": "display_data"
        },
        {
          "data": {
            "image/png": "[encoded data removed]",
            "text/plain": [
              "<Figure size 432x288 with 1 Axes>"
            ]
          },
          "metadata": {
            "tags": []
          },
          "output_type": "display_data"
        }
      ],
      "source": [
        "# Referred Tutorial 6\n",
        "\n",
        "# import the Gaussian Mixture Model and train it on your data\n",
        "from sklearn.mixture import GaussianMixture\n",
        "from sklearn.preprocessing import StandardScaler\n",
        "\n",
        "# creat the Gaussian model\n",
        "gmm = GaussianMixture(n_components=3, covariance_type='full')\n",
        "# fit it on the data\n",
        "clustering_algorithms = (\n",
        "        ('Gaussian\\nMixture', gmm)\n",
        ")\n",
        "for i_dataset, (dataset, algo_params) in enumerate(datasets):\n",
        "    X, y = dataset\n",
        "\n",
        "    # normalize dataset for easier parameter selection\n",
        "    X = StandardScaler().fit_transform(X)\n",
        "    gmm.fit(X)\n",
        "    y_pred = gmm.predict(X)\n",
        "\n",
        "    colors = np.array(list(islice(cycle(['#377eb8', '#ff7f00', '#4daf4a',\n",
        "                                          '#f781bf', '#a65628', '#984ea3',\n",
        "                                          '#999999', '#e41a1c', '#dede00']),\n",
        "                                  int(max(y_pred) + 1))))\n",
        "    # add black color for outliers (if any)\n",
        "    colors = np.append(colors, [\"#000000\"])\n",
        "    plt.scatter(X[:, 0], X[:, 1], s=10, color=colors[y_pred])\n",
        "\n",
        "    plt.xlim(-2.5, 2.5)\n",
        "    plt.ylim(-2.5, 2.5)\n",
        "    plt.xticks(())\n",
        "    plt.yticks(())\n",
        "    plt.show()\n"
      ]
    },
    {
      "cell_type": "markdown",
      "metadata": {
        "id": "HAmv6dGSqbXP"
      },
      "source": [
        "c) Report the parameters of the gaussians so that you can describe the main characteristics for\n",
        "each race."
      ]
    },
    {
      "cell_type": "code",
      "execution_count": 117,
      "metadata": {
        "colab": {
          "base_uri": "https://localhost:8080/"
        },
        "id": "CuSLkUmc5Yef",
        "outputId": "a19dfad0-d88a-4f04-cd07-333451cbf72d"
      },
      "outputs": [
        {
          "name": "stdout",
          "output_type": "stream",
          "text": [
            "[0.34084767 0.32915233 0.33      ]\n",
            "[[-0.07771767 -0.33220787]\n",
            " [-1.13398718 -1.00747046]\n",
            " [ 1.21134669  1.34801069]]\n",
            "[[[ 0.06351178  0.01015891]\n",
            "  [ 0.01015891  0.03357122]]\n",
            "\n",
            " [[ 0.09178521 -0.01210958]\n",
            "  [-0.01210958  0.02450443]]\n",
            "\n",
            " [[ 0.11693396  0.01761933]\n",
            "  [ 0.01761933  0.02767762]]]\n",
            "[[[16.54598683 -5.00694155]\n",
            "  [-5.00694155 31.30256182]]\n",
            "\n",
            " [[11.65488789  5.75960217]\n",
            "  [ 5.75960217 43.65522545]]\n",
            "\n",
            " [[ 9.45915859 -6.02161681]\n",
            "  [-6.02161681 39.96357783]]]\n",
            "[[[ 3.96801097 -0.89491663]\n",
            "  [ 0.          5.59486924]]\n",
            "\n",
            " [[ 3.3007577   0.8717147 ]\n",
            "  [ 0.          6.60721011]]\n",
            "\n",
            " [[ 2.92435218 -0.95253498]\n",
            "  [ 0.          6.32167524]]]\n",
            "True\n",
            "2\n",
            "-0.8986087136900826\n"
          ]
        }
      ],
      "source": [
        "# Referred URL: https://scikit-learn.org/stable/modules/generated/sklearn.mixture.GaussianMixture.html#sklearn.mixture.GaussianMixture\n",
        "\n",
        "print(gmm.weights_)\n",
        "print(gmm.means_)\n",
        "print(gmm.covariances_)\n",
        "print(gmm.precisions_)\n",
        "print(gmm.precisions_cholesky_)\n",
        "print(gmm.converged_)\n",
        "print(gmm.n_iter_)\n",
        "print(gmm.lower_bound_)\n"
      ]
    }
  ],
  "metadata": {
    "colab": {
      "collapsed_sections": [],
      "name": "Raja_Ashokkumar_Assignment_3.ipynb",
      "provenance": []
    },
    "kernelspec": {
      "display_name": "Python 3",
      "language": "python",
      "name": "python3"
    },
    "language_info": {
      "codemirror_mode": {
        "name": "ipython",
        "version": 3
      },
      "file_extension": ".py",
      "mimetype": "text/x-python",
      "name": "python",
      "nbconvert_exporter": "python",
      "pygments_lexer": "ipython3",
      "version": "3.6.10"
    }
  },
  "nbformat": 4,
  "nbformat_minor": 0
}
